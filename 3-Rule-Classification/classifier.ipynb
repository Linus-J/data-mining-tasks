{
 "cells": [
  {
   "cell_type": "code",
   "execution_count": 38,
   "metadata": {},
   "outputs": [],
   "source": [
    "from sklearn.datasets import load_iris\n",
    "import pandas as pd\n",
    "data = pd.DataFrame(iris.data)\n",
    "data.columns = ['sepal_length', 'sepal_width', 'petal_length', 'petal_width']\n",
    "target = pd.DataFrame(iris.target)\n",
    "target = target.rename(columns = {0: 'target'})\n",
    "df = pd.concat([data, target], axis = 1)\n"
   ]
  },
  {
   "cell_type": "code",
   "execution_count": 39,
   "metadata": {},
   "outputs": [
    {
     "data": {
      "text/html": [
       "<div>\n",
       "<style scoped>\n",
       "    .dataframe tbody tr th:only-of-type {\n",
       "        vertical-align: middle;\n",
       "    }\n",
       "\n",
       "    .dataframe tbody tr th {\n",
       "        vertical-align: top;\n",
       "    }\n",
       "\n",
       "    .dataframe thead th {\n",
       "        text-align: right;\n",
       "    }\n",
       "</style>\n",
       "<table border=\"1\" class=\"dataframe\">\n",
       "  <thead>\n",
       "    <tr style=\"text-align: right;\">\n",
       "      <th></th>\n",
       "      <th>frequency</th>\n",
       "      <th>most_frequent</th>\n",
       "    </tr>\n",
       "    <tr>\n",
       "      <th>sepal_length</th>\n",
       "      <th></th>\n",
       "      <th></th>\n",
       "    </tr>\n",
       "  </thead>\n",
       "  <tbody>\n",
       "    <tr>\n",
       "      <th>4.3</th>\n",
       "      <td>1</td>\n",
       "      <td>0</td>\n",
       "    </tr>\n",
       "    <tr>\n",
       "      <th>4.4</th>\n",
       "      <td>3</td>\n",
       "      <td>0</td>\n",
       "    </tr>\n",
       "    <tr>\n",
       "      <th>4.5</th>\n",
       "      <td>1</td>\n",
       "      <td>0</td>\n",
       "    </tr>\n",
       "    <tr>\n",
       "      <th>4.6</th>\n",
       "      <td>4</td>\n",
       "      <td>0</td>\n",
       "    </tr>\n",
       "    <tr>\n",
       "      <th>4.7</th>\n",
       "      <td>2</td>\n",
       "      <td>0</td>\n",
       "    </tr>\n",
       "  </tbody>\n",
       "</table>\n",
       "</div>"
      ],
      "text/plain": [
       "              frequency  most_frequent\n",
       "sepal_length                          \n",
       "4.3                   1              0\n",
       "4.4                   3              0\n",
       "4.5                   1              0\n",
       "4.6                   4              0\n",
       "4.7                   2              0"
      ]
     },
     "execution_count": 39,
     "metadata": {},
     "output_type": "execute_result"
    }
   ],
   "source": [
    "lengthMf = df.groupby('sepal_length')['target'].agg(lambda x: x.value_counts().idxmax()).T\n",
    "lengthF = df.groupby('sepal_length')['target'].agg(lambda x: x.value_counts().max()).T\n",
    "lengthFreq = pd.concat([lengthF.rename('frequency'),lengthMf.rename('most_frequent')], axis=1)\n",
    "\n",
    "widthMf = df.groupby('sepal_width')['target'].agg(lambda x: x.value_counts().idxmax()).T\n",
    "widthF = df.groupby('sepal_width')['target'].agg(lambda x: x.value_counts().max()).T\n",
    "widthFreq = pd.concat([lengthF.rename('frequency'),lengthMf.rename('most_frequent')], axis=1)\n",
    "\n",
    "# Display the final result\n",
    "lengthFreq.head()"
   ]
  },
  {
   "cell_type": "code",
   "execution_count": 40,
   "metadata": {},
   "outputs": [
    {
     "data": {
      "text/html": [
       "<div>\n",
       "<style scoped>\n",
       "    .dataframe tbody tr th:only-of-type {\n",
       "        vertical-align: middle;\n",
       "    }\n",
       "\n",
       "    .dataframe tbody tr th {\n",
       "        vertical-align: top;\n",
       "    }\n",
       "\n",
       "    .dataframe thead th {\n",
       "        text-align: right;\n",
       "    }\n",
       "</style>\n",
       "<table border=\"1\" class=\"dataframe\">\n",
       "  <thead>\n",
       "    <tr style=\"text-align: right;\">\n",
       "      <th></th>\n",
       "      <th>frequency</th>\n",
       "      <th>most_frequent</th>\n",
       "    </tr>\n",
       "    <tr>\n",
       "      <th>sepal_length</th>\n",
       "      <th></th>\n",
       "      <th></th>\n",
       "    </tr>\n",
       "  </thead>\n",
       "  <tbody>\n",
       "    <tr>\n",
       "      <th>4.3</th>\n",
       "      <td>1</td>\n",
       "      <td>0</td>\n",
       "    </tr>\n",
       "    <tr>\n",
       "      <th>4.4</th>\n",
       "      <td>3</td>\n",
       "      <td>0</td>\n",
       "    </tr>\n",
       "    <tr>\n",
       "      <th>4.5</th>\n",
       "      <td>1</td>\n",
       "      <td>0</td>\n",
       "    </tr>\n",
       "    <tr>\n",
       "      <th>4.6</th>\n",
       "      <td>4</td>\n",
       "      <td>0</td>\n",
       "    </tr>\n",
       "    <tr>\n",
       "      <th>4.7</th>\n",
       "      <td>2</td>\n",
       "      <td>0</td>\n",
       "    </tr>\n",
       "  </tbody>\n",
       "</table>\n",
       "</div>"
      ],
      "text/plain": [
       "              frequency  most_frequent\n",
       "sepal_length                          \n",
       "4.3                   1              0\n",
       "4.4                   3              0\n",
       "4.5                   1              0\n",
       "4.6                   4              0\n",
       "4.7                   2              0"
      ]
     },
     "execution_count": 40,
     "metadata": {},
     "output_type": "execute_result"
    }
   ],
   "source": [
    "widthFreq.head()"
   ]
  },
  {
   "cell_type": "code",
   "execution_count": 47,
   "metadata": {},
   "outputs": [
    {
     "ename": "ValueError",
     "evalue": "attempt to get argmax of an empty sequence",
     "output_type": "error",
     "traceback": [
      "\u001b[0;31m---------------------------------------------------------------------------\u001b[0m",
      "\u001b[0;31mValueError\u001b[0m                                Traceback (most recent call last)",
      "\u001b[1;32m/home/li2us/Projects/lab2/Untitled-1.ipynb Cell 4\u001b[0m line \u001b[0;36m1\n\u001b[1;32m     <a href='vscode-notebook-cell:/home/li2us/Projects/lab2/Untitled-1.ipynb#W3sZmlsZQ%3D%3D?line=11'>12</a>\u001b[0m     \u001b[39mfor\u001b[39;00m sepal_width \u001b[39min\u001b[39;00m matrix_sepal_length_width\u001b[39m.\u001b[39mcolumns:\n\u001b[1;32m     <a href='vscode-notebook-cell:/home/li2us/Projects/lab2/Untitled-1.ipynb#W3sZmlsZQ%3D%3D?line=12'>13</a>\u001b[0m         subset \u001b[39m=\u001b[39m df[(df[\u001b[39m'\u001b[39m\u001b[39msepal_length\u001b[39m\u001b[39m'\u001b[39m] \u001b[39m==\u001b[39m sepal_length) \u001b[39m&\u001b[39m (df[\u001b[39m'\u001b[39m\u001b[39msepal_width\u001b[39m\u001b[39m'\u001b[39m] \u001b[39m==\u001b[39m sepal_width)][\u001b[39m'\u001b[39m\u001b[39mtarget\u001b[39m\u001b[39m'\u001b[39m]\n\u001b[0;32m---> <a href='vscode-notebook-cell:/home/li2us/Projects/lab2/Untitled-1.ipynb#W3sZmlsZQ%3D%3D?line=13'>14</a>\u001b[0m         most_frequent_class, _ \u001b[39m=\u001b[39m most_frequent_class_and_freq(subset)\n\u001b[1;32m     <a href='vscode-notebook-cell:/home/li2us/Projects/lab2/Untitled-1.ipynb#W3sZmlsZQ%3D%3D?line=14'>15</a>\u001b[0m         matrix_sepal_length_width\u001b[39m.\u001b[39mloc[sepal_length, sepal_width] \u001b[39m=\u001b[39m most_frequent_class\n\u001b[1;32m     <a href='vscode-notebook-cell:/home/li2us/Projects/lab2/Untitled-1.ipynb#W3sZmlsZQ%3D%3D?line=16'>17</a>\u001b[0m \u001b[39mprint\u001b[39m(matrix_sepal_length_width)\n",
      "\u001b[1;32m/home/li2us/Projects/lab2/Untitled-1.ipynb Cell 4\u001b[0m line \u001b[0;36m7\n\u001b[1;32m      <a href='vscode-notebook-cell:/home/li2us/Projects/lab2/Untitled-1.ipynb#W3sZmlsZQ%3D%3D?line=4'>5</a>\u001b[0m \u001b[39mdef\u001b[39;00m \u001b[39mmost_frequent_class_and_freq\u001b[39m(series):\n\u001b[1;32m      <a href='vscode-notebook-cell:/home/li2us/Projects/lab2/Untitled-1.ipynb#W3sZmlsZQ%3D%3D?line=5'>6</a>\u001b[0m     counts \u001b[39m=\u001b[39m series\u001b[39m.\u001b[39mvalue_counts()\n\u001b[0;32m----> <a href='vscode-notebook-cell:/home/li2us/Projects/lab2/Untitled-1.ipynb#W3sZmlsZQ%3D%3D?line=6'>7</a>\u001b[0m     most_frequent \u001b[39m=\u001b[39m counts\u001b[39m.\u001b[39;49midxmax()\n\u001b[1;32m      <a href='vscode-notebook-cell:/home/li2us/Projects/lab2/Untitled-1.ipynb#W3sZmlsZQ%3D%3D?line=7'>8</a>\u001b[0m     frequency \u001b[39m=\u001b[39m counts\u001b[39m.\u001b[39mloc[most_frequent]\n\u001b[1;32m      <a href='vscode-notebook-cell:/home/li2us/Projects/lab2/Untitled-1.ipynb#W3sZmlsZQ%3D%3D?line=8'>9</a>\u001b[0m     \u001b[39mreturn\u001b[39;00m most_frequent, frequency\n",
      "File \u001b[0;32m~/miniconda3/envs/condenv/lib/python3.12/site-packages/pandas/core/series.py:2645\u001b[0m, in \u001b[0;36mSeries.idxmax\u001b[0;34m(self, axis, skipna, *args, **kwargs)\u001b[0m\n\u001b[1;32m   2640\u001b[0m \u001b[39mwith\u001b[39;00m warnings\u001b[39m.\u001b[39mcatch_warnings():\n\u001b[1;32m   2641\u001b[0m     \u001b[39m# TODO(3.0): this catching/filtering can be removed\u001b[39;00m\n\u001b[1;32m   2642\u001b[0m     \u001b[39m# ignore warning produced by argmax since we will issue a different\u001b[39;00m\n\u001b[1;32m   2643\u001b[0m     \u001b[39m#  warning for argmax\u001b[39;00m\n\u001b[1;32m   2644\u001b[0m     warnings\u001b[39m.\u001b[39msimplefilter(\u001b[39m\"\u001b[39m\u001b[39mignore\u001b[39m\u001b[39m\"\u001b[39m)\n\u001b[0;32m-> 2645\u001b[0m     i \u001b[39m=\u001b[39m \u001b[39mself\u001b[39;49m\u001b[39m.\u001b[39;49margmax(axis, skipna, \u001b[39m*\u001b[39;49margs, \u001b[39m*\u001b[39;49m\u001b[39m*\u001b[39;49mkwargs)\n\u001b[1;32m   2647\u001b[0m \u001b[39mif\u001b[39;00m i \u001b[39m==\u001b[39m \u001b[39m-\u001b[39m\u001b[39m1\u001b[39m:\n\u001b[1;32m   2648\u001b[0m     \u001b[39m# GH#43587 give correct NA value for Index.\u001b[39;00m\n\u001b[1;32m   2649\u001b[0m     warnings\u001b[39m.\u001b[39mwarn(\n\u001b[1;32m   2650\u001b[0m         \u001b[39mf\u001b[39m\u001b[39m\"\u001b[39m\u001b[39mThe behavior of \u001b[39m\u001b[39m{\u001b[39;00m\u001b[39mtype\u001b[39m(\u001b[39mself\u001b[39m)\u001b[39m.\u001b[39m\u001b[39m__name__\u001b[39m\u001b[39m}\u001b[39;00m\u001b[39m.idxmax with all-NA \u001b[39m\u001b[39m\"\u001b[39m\n\u001b[1;32m   2651\u001b[0m         \u001b[39m\"\u001b[39m\u001b[39mvalues, or any-NA and skipna=False, is deprecated. In a future \u001b[39m\u001b[39m\"\u001b[39m\n\u001b[0;32m   (...)\u001b[0m\n\u001b[1;32m   2654\u001b[0m         stacklevel\u001b[39m=\u001b[39mfind_stack_level(),\n\u001b[1;32m   2655\u001b[0m     )\n",
      "File \u001b[0;32m~/miniconda3/envs/condenv/lib/python3.12/site-packages/pandas/core/base.py:751\u001b[0m, in \u001b[0;36mIndexOpsMixin.argmax\u001b[0;34m(self, axis, skipna, *args, **kwargs)\u001b[0m\n\u001b[1;32m    749\u001b[0m         \u001b[39mreturn\u001b[39;00m delegate\u001b[39m.\u001b[39margmax()\n\u001b[1;32m    750\u001b[0m \u001b[39melse\u001b[39;00m:\n\u001b[0;32m--> 751\u001b[0m     result \u001b[39m=\u001b[39m nanops\u001b[39m.\u001b[39;49mnanargmax(delegate, skipna\u001b[39m=\u001b[39;49mskipna)\n\u001b[1;32m    752\u001b[0m     \u001b[39mif\u001b[39;00m result \u001b[39m==\u001b[39m \u001b[39m-\u001b[39m\u001b[39m1\u001b[39m:\n\u001b[1;32m    753\u001b[0m         warnings\u001b[39m.\u001b[39mwarn(\n\u001b[1;32m    754\u001b[0m             \u001b[39mf\u001b[39m\u001b[39m\"\u001b[39m\u001b[39mThe behavior of \u001b[39m\u001b[39m{\u001b[39;00m\u001b[39mtype\u001b[39m(\u001b[39mself\u001b[39m)\u001b[39m.\u001b[39m\u001b[39m__name__\u001b[39m\u001b[39m}\u001b[39;00m\u001b[39m.argmax/argmin \u001b[39m\u001b[39m\"\u001b[39m\n\u001b[1;32m    755\u001b[0m             \u001b[39m\"\u001b[39m\u001b[39mwith skipna=False and NAs, or with all-NAs is deprecated. \u001b[39m\u001b[39m\"\u001b[39m\n\u001b[0;32m   (...)\u001b[0m\n\u001b[1;32m    758\u001b[0m             stacklevel\u001b[39m=\u001b[39mfind_stack_level(),\n\u001b[1;32m    759\u001b[0m         )\n",
      "File \u001b[0;32m~/miniconda3/envs/condenv/lib/python3.12/site-packages/pandas/core/nanops.py:1143\u001b[0m, in \u001b[0;36mnanargmax\u001b[0;34m(values, axis, skipna, mask)\u001b[0m\n\u001b[1;32m   1141\u001b[0m values, mask \u001b[39m=\u001b[39m _get_values(values, \u001b[39mTrue\u001b[39;00m, fill_value_typ\u001b[39m=\u001b[39m\u001b[39m\"\u001b[39m\u001b[39m-inf\u001b[39m\u001b[39m\"\u001b[39m, mask\u001b[39m=\u001b[39mmask)\n\u001b[1;32m   1142\u001b[0m \u001b[39m# error: Need type annotation for 'result'\u001b[39;00m\n\u001b[0;32m-> 1143\u001b[0m result \u001b[39m=\u001b[39m values\u001b[39m.\u001b[39;49margmax(axis)  \u001b[39m# type: ignore[var-annotated]\u001b[39;00m\n\u001b[1;32m   1144\u001b[0m result \u001b[39m=\u001b[39m _maybe_arg_null_out(result, axis, mask, skipna)\n\u001b[1;32m   1145\u001b[0m \u001b[39mreturn\u001b[39;00m result\n",
      "\u001b[0;31mValueError\u001b[0m: attempt to get argmax of an empty sequence"
     ]
    }
   ],
   "source": [
    "import numpy as np\n",
    "import random\n",
    "matrix_sepal_length_width = pd.DataFrame(index=df['sepal_length'].unique(), columns=df['sepal_width'].unique())\n",
    "\n",
    "def most_frequent_class_and_freq(series):\n",
    "    counts = series.value_counts()\n",
    "    most_frequent = counts.idxmax()\n",
    "    frequency = counts.loc[most_frequent]\n",
    "    return most_frequent, frequency\n",
    "# Fill in the matrix with the most frequent class for each pair of (sepal_length, sepal_width)\n",
    "for sepal_length in matrix_sepal_length_width.index:\n",
    "    for sepal_width in matrix_sepal_length_width.columns:\n",
    "        subset = df[(df['sepal_length'] == sepal_length) & (df['sepal_width'] == sepal_width)]['target']\n",
    "        most_frequent_class, _ = most_frequent_class_and_freq(subset)\n",
    "        matrix_sepal_length_width.loc[sepal_length, sepal_width] = most_frequent_class\n",
    "\n",
    "print(matrix_sepal_length_width)\n",
    "# n = len(lengthFreq['most_frequent'])\n",
    "# print(lengthFreq['frequency'])\n",
    "# M = np.zeros((n,n))\n",
    "# for i in range(1,n):\n",
    "#     for j in range(1,n):\n",
    "#         if lengthFreq['most_frequent'][i] != widthFreq['most_frequent'][j]:\n",
    "#             M[i][j]=max(lengthFreq['most_frequent'][i],widthFreq['most_frequent'][j])\n",
    "#         elif lengthFreq['frequency'][i] == widthFreq['frequency'][j]:\n",
    "#             M[i][j]=random.choice([lengthFreq['most_frequent'][i], widthFreq['most_frequent'][j]])\n",
    "#         elif lengthFreq['frequency'][i] < widthFreq['frequency'][j]:\n",
    "#             M[i][j]=widthFreq['most_frequent'][j]\n",
    "#         else:\n",
    "#             M[i][j]=lengthFreq['most_frequent'][i]\n",
    "        \n",
    "\n",
    "\n"
   ]
  }
 ],
 "metadata": {
  "kernelspec": {
   "display_name": "base",
   "language": "python",
   "name": "python3"
  },
  "language_info": {
   "codemirror_mode": {
    "name": "ipython",
    "version": 3
   },
   "file_extension": ".py",
   "mimetype": "text/x-python",
   "name": "python",
   "nbconvert_exporter": "python",
   "pygments_lexer": "ipython3",
   "version": "3.12.1"
  }
 },
 "nbformat": 4,
 "nbformat_minor": 2
}
