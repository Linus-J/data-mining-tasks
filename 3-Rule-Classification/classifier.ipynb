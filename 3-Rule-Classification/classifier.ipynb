{
 "cells": [
  {
   "cell_type": "code",
<<<<<<< HEAD
   "execution_count": 23,
=======
   "execution_count": 2,
>>>>>>> 05f7c8d6d8372d1705b883fe8bd5ae6556ce883a
   "metadata": {},
   "outputs": [],
   "source": [
    "from sklearn.datasets import load_iris\n",
    "import pandas as pd\n",
    "import random\n",
    "import numpy as np\n",
    "iris = load_iris()\n",
    "data = pd.DataFrame(iris.data)\n",
    "data.columns = ['sepal_length', 'sepal_width', 'petal_length', 'petal_width']\n",
    "target = pd.DataFrame(iris.target)\n",
    "target = target.rename(columns = {0: 'target'})\n",
    "df = pd.concat([data, target], axis = 1)\n"
   ]
  },
  {
   "cell_type": "code",
<<<<<<< HEAD
   "execution_count": 24,
=======
   "execution_count": 3,
>>>>>>> 05f7c8d6d8372d1705b883fe8bd5ae6556ce883a
   "metadata": {},
   "outputs": [
    {
     "data": {
      "text/html": [
       "<div>\n",
       "<style scoped>\n",
       "    .dataframe tbody tr th:only-of-type {\n",
       "        vertical-align: middle;\n",
       "    }\n",
       "\n",
       "    .dataframe tbody tr th {\n",
       "        vertical-align: top;\n",
       "    }\n",
       "\n",
       "    .dataframe thead th {\n",
       "        text-align: right;\n",
       "    }\n",
       "</style>\n",
       "<table border=\"1\" class=\"dataframe\">\n",
       "  <thead>\n",
       "    <tr style=\"text-align: right;\">\n",
       "      <th></th>\n",
       "      <th>frequency</th>\n",
       "      <th>most_frequent</th>\n",
       "    </tr>\n",
       "    <tr>\n",
       "      <th>sepal_length</th>\n",
       "      <th></th>\n",
       "      <th></th>\n",
       "    </tr>\n",
       "  </thead>\n",
       "  <tbody>\n",
       "    <tr>\n",
       "      <th>4.3</th>\n",
       "      <td>1</td>\n",
       "      <td>0</td>\n",
       "    </tr>\n",
       "    <tr>\n",
       "      <th>4.4</th>\n",
       "      <td>3</td>\n",
       "      <td>0</td>\n",
       "    </tr>\n",
       "    <tr>\n",
       "      <th>4.5</th>\n",
       "      <td>1</td>\n",
       "      <td>0</td>\n",
       "    </tr>\n",
       "    <tr>\n",
       "      <th>4.6</th>\n",
       "      <td>4</td>\n",
       "      <td>0</td>\n",
       "    </tr>\n",
       "    <tr>\n",
       "      <th>4.7</th>\n",
       "      <td>2</td>\n",
       "      <td>0</td>\n",
       "    </tr>\n",
       "  </tbody>\n",
       "</table>\n",
       "</div>"
      ],
      "text/plain": [
       "              frequency  most_frequent\n",
       "sepal_length                          \n",
       "4.3                   1              0\n",
       "4.4                   3              0\n",
       "4.5                   1              0\n",
       "4.6                   4              0\n",
       "4.7                   2              0"
      ]
     },
<<<<<<< HEAD
     "execution_count": 24,
=======
     "execution_count": 3,
>>>>>>> 05f7c8d6d8372d1705b883fe8bd5ae6556ce883a
     "metadata": {},
     "output_type": "execute_result"
    }
   ],
   "source": [
    "lengthMf = df.groupby('sepal_length')['target'].agg(lambda x: x.value_counts().idxmax()).T\n",
    "lengthF = df.groupby('sepal_length')['target'].agg(lambda x: x.value_counts().max()).T\n",
    "lengthFreq = pd.concat([lengthF.rename('frequency'),lengthMf.rename('most_frequent')], axis=1)\n",
    "\n",
    "widthMf = df.groupby('sepal_width')['target'].agg(lambda x: x.value_counts().idxmax()).T\n",
    "widthF = df.groupby('sepal_width')['target'].agg(lambda x: x.value_counts().max()).T\n",
    "widthFreq = pd.concat([lengthF.rename('frequency'),lengthMf.rename('most_frequent')], axis=1)\n",
    "\n",
    "# Display the final result\n",
    "lengthFreq.head()"
   ]
  },
  {
   "cell_type": "code",
<<<<<<< HEAD
   "execution_count": 25,
=======
   "execution_count": 4,
>>>>>>> 05f7c8d6d8372d1705b883fe8bd5ae6556ce883a
   "metadata": {},
   "outputs": [
    {
     "data": {
      "text/html": [
       "<div>\n",
       "<style scoped>\n",
       "    .dataframe tbody tr th:only-of-type {\n",
       "        vertical-align: middle;\n",
       "    }\n",
       "\n",
       "    .dataframe tbody tr th {\n",
       "        vertical-align: top;\n",
       "    }\n",
       "\n",
       "    .dataframe thead th {\n",
       "        text-align: right;\n",
       "    }\n",
       "</style>\n",
       "<table border=\"1\" class=\"dataframe\">\n",
       "  <thead>\n",
       "    <tr style=\"text-align: right;\">\n",
       "      <th></th>\n",
       "      <th>frequency</th>\n",
       "      <th>most_frequent</th>\n",
       "    </tr>\n",
       "    <tr>\n",
       "      <th>sepal_length</th>\n",
       "      <th></th>\n",
       "      <th></th>\n",
       "    </tr>\n",
       "  </thead>\n",
       "  <tbody>\n",
       "    <tr>\n",
       "      <th>4.3</th>\n",
       "      <td>1</td>\n",
       "      <td>0</td>\n",
       "    </tr>\n",
       "    <tr>\n",
       "      <th>4.4</th>\n",
       "      <td>3</td>\n",
       "      <td>0</td>\n",
       "    </tr>\n",
       "    <tr>\n",
       "      <th>4.5</th>\n",
       "      <td>1</td>\n",
       "      <td>0</td>\n",
       "    </tr>\n",
       "    <tr>\n",
       "      <th>4.6</th>\n",
       "      <td>4</td>\n",
       "      <td>0</td>\n",
       "    </tr>\n",
       "    <tr>\n",
       "      <th>4.7</th>\n",
       "      <td>2</td>\n",
       "      <td>0</td>\n",
       "    </tr>\n",
       "  </tbody>\n",
       "</table>\n",
       "</div>"
      ],
      "text/plain": [
       "              frequency  most_frequent\n",
       "sepal_length                          \n",
       "4.3                   1              0\n",
       "4.4                   3              0\n",
       "4.5                   1              0\n",
       "4.6                   4              0\n",
       "4.7                   2              0"
      ]
     },
<<<<<<< HEAD
     "execution_count": 25,
=======
     "execution_count": 4,
>>>>>>> 05f7c8d6d8372d1705b883fe8bd5ae6556ce883a
     "metadata": {},
     "output_type": "execute_result"
    }
   ],
   "source": [
    "widthFreq.head()"
   ]
  },
  {
   "cell_type": "code",
<<<<<<< HEAD
   "execution_count": 26,
=======
   "execution_count": 5,
>>>>>>> 05f7c8d6d8372d1705b883fe8bd5ae6556ce883a
   "metadata": {},
   "outputs": [
    {
     "data": {
      "text/html": [
       "<div>\n",
       "<style scoped>\n",
       "    .dataframe tbody tr th:only-of-type {\n",
       "        vertical-align: middle;\n",
       "    }\n",
       "\n",
       "    .dataframe tbody tr th {\n",
       "        vertical-align: top;\n",
       "    }\n",
       "\n",
       "    .dataframe thead th {\n",
       "        text-align: right;\n",
       "    }\n",
       "</style>\n",
       "<table border=\"1\" class=\"dataframe\">\n",
       "  <thead>\n",
       "    <tr style=\"text-align: right;\">\n",
       "      <th></th>\n",
       "      <th>3.5</th>\n",
       "      <th>3.0</th>\n",
       "      <th>3.2</th>\n",
       "      <th>3.1</th>\n",
       "      <th>3.6</th>\n",
       "      <th>3.9</th>\n",
       "      <th>3.4</th>\n",
       "      <th>2.9</th>\n",
       "      <th>3.7</th>\n",
       "      <th>4.0</th>\n",
       "      <th>...</th>\n",
       "      <th>4.1</th>\n",
       "      <th>4.2</th>\n",
       "      <th>2.3</th>\n",
       "      <th>2.8</th>\n",
       "      <th>2.4</th>\n",
       "      <th>2.7</th>\n",
       "      <th>2.0</th>\n",
       "      <th>2.2</th>\n",
       "      <th>2.5</th>\n",
       "      <th>2.6</th>\n",
       "    </tr>\n",
       "  </thead>\n",
       "  <tbody>\n",
       "    <tr>\n",
       "      <th>5.1</th>\n",
       "      <td>0</td>\n",
       "      <td>2</td>\n",
       "      <td>2</td>\n",
       "      <td>2</td>\n",
       "      <td>0</td>\n",
       "      <td>0</td>\n",
       "      <td>0</td>\n",
       "      <td>1</td>\n",
       "      <td>0</td>\n",
       "      <td>0</td>\n",
       "      <td>...</td>\n",
       "      <td>0</td>\n",
       "      <td>0</td>\n",
       "      <td>1</td>\n",
       "      <td>2</td>\n",
       "      <td>1</td>\n",
       "      <td>1</td>\n",
       "      <td>1</td>\n",
       "      <td>1</td>\n",
       "      <td>2</td>\n",
       "      <td>1</td>\n",
       "    </tr>\n",
       "    <tr>\n",
       "      <th>4.9</th>\n",
       "      <td>0</td>\n",
       "      <td>2</td>\n",
       "      <td>2</td>\n",
       "      <td>2</td>\n",
       "      <td>0</td>\n",
       "      <td>0</td>\n",
       "      <td>0</td>\n",
       "      <td>1</td>\n",
       "      <td>0</td>\n",
       "      <td>0</td>\n",
       "      <td>...</td>\n",
       "      <td>0</td>\n",
       "      <td>0</td>\n",
       "      <td>1</td>\n",
       "      <td>2</td>\n",
       "      <td>1</td>\n",
       "      <td>1</td>\n",
       "      <td>1</td>\n",
       "      <td>1</td>\n",
       "      <td>2</td>\n",
       "      <td>1</td>\n",
       "    </tr>\n",
       "    <tr>\n",
       "      <th>4.7</th>\n",
       "      <td>0</td>\n",
       "      <td>2</td>\n",
       "      <td>2</td>\n",
       "      <td>2</td>\n",
       "      <td>0</td>\n",
       "      <td>0</td>\n",
       "      <td>0</td>\n",
       "      <td>1</td>\n",
       "      <td>0</td>\n",
       "      <td>0</td>\n",
       "      <td>...</td>\n",
       "      <td>0</td>\n",
       "      <td>0</td>\n",
       "      <td>1</td>\n",
       "      <td>2</td>\n",
       "      <td>1</td>\n",
       "      <td>1</td>\n",
       "      <td>1</td>\n",
       "      <td>1</td>\n",
       "      <td>2</td>\n",
       "      <td>1</td>\n",
       "    </tr>\n",
       "    <tr>\n",
       "      <th>4.6</th>\n",
       "      <td>0</td>\n",
       "      <td>2</td>\n",
       "      <td>2</td>\n",
       "      <td>2</td>\n",
       "      <td>0</td>\n",
       "      <td>0</td>\n",
       "      <td>0</td>\n",
       "      <td>1</td>\n",
       "      <td>0</td>\n",
       "      <td>0</td>\n",
       "      <td>...</td>\n",
       "      <td>0</td>\n",
       "      <td>0</td>\n",
       "      <td>1</td>\n",
       "      <td>2</td>\n",
       "      <td>1</td>\n",
       "      <td>1</td>\n",
       "      <td>1</td>\n",
       "      <td>1</td>\n",
       "      <td>2</td>\n",
       "      <td>1</td>\n",
       "    </tr>\n",
       "    <tr>\n",
       "      <th>5.0</th>\n",
       "      <td>0</td>\n",
       "      <td>2</td>\n",
       "      <td>2</td>\n",
       "      <td>2</td>\n",
       "      <td>0</td>\n",
       "      <td>0</td>\n",
       "      <td>0</td>\n",
       "      <td>1</td>\n",
       "      <td>0</td>\n",
       "      <td>0</td>\n",
       "      <td>...</td>\n",
       "      <td>0</td>\n",
       "      <td>0</td>\n",
       "      <td>1</td>\n",
       "      <td>2</td>\n",
       "      <td>1</td>\n",
       "      <td>1</td>\n",
       "      <td>1</td>\n",
       "      <td>1</td>\n",
       "      <td>2</td>\n",
       "      <td>1</td>\n",
       "    </tr>\n",
       "  </tbody>\n",
       "</table>\n",
       "<p>5 rows × 23 columns</p>\n",
       "</div>"
      ],
      "text/plain": [
       "     3.5  3.0  3.2  3.1  3.6  3.9  3.4  2.9  3.7  4.0  ...  4.1  4.2  2.3  \\\n",
       "5.1    0    2    2    2    0    0    0    1    0    0  ...    0    0    1   \n",
       "4.9    0    2    2    2    0    0    0    1    0    0  ...    0    0    1   \n",
       "4.7    0    2    2    2    0    0    0    1    0    0  ...    0    0    1   \n",
       "4.6    0    2    2    2    0    0    0    1    0    0  ...    0    0    1   \n",
       "5.0    0    2    2    2    0    0    0    1    0    0  ...    0    0    1   \n",
       "\n",
       "     2.8  2.4  2.7  2.0  2.2  2.5  2.6  \n",
       "5.1    2    1    1    1    1    2    1  \n",
       "4.9    2    1    1    1    1    2    1  \n",
       "4.7    2    1    1    1    1    2    1  \n",
       "4.6    2    1    1    1    1    2    1  \n",
       "5.0    2    1    1    1    1    2    1  \n",
       "\n",
       "[5 rows x 23 columns]"
      ]
     },
<<<<<<< HEAD
     "execution_count": 26,
=======
     "execution_count": 5,
>>>>>>> 05f7c8d6d8372d1705b883fe8bd5ae6556ce883a
     "metadata": {},
     "output_type": "execute_result"
    }
   ],
   "source": [
    "M = pd.DataFrame(index=df['sepal_length'].unique(), columns=df['sepal_width'].unique())\n",
    "\n",
    "for i in M.index:\n",
    "\tfor j in M.columns:\n",
    "\t\tlmf = lengthMf.loc[i].astype(int)\n",
    "\t\twmf = widthMf.loc[j].astype(int)\n",
    "\t\tlf = lengthF.loc[i].astype(int)\n",
    "\t\twf = widthF.loc[j].astype(int)\n",
    "\t\tif lmf != wmf:\n",
    "\t\t\tM.loc[i,j]=max(lmf,wmf)\n",
    "\t\telif lf == wf:\n",
    "\t\t\tM.loc[i,j]=random.choice([lmf, wmf])\n",
    "\t\telif lf < wf:\n",
    "\t\t\tM.loc[i,j]=wmf\n",
    "\t\telse:\n",
    "\t\t\tM.loc[i,j]=lmf\n",
    "\n",
    "M.head()"
   ]
  },
  {
   "cell_type": "code",
<<<<<<< HEAD
   "execution_count": 27,
=======
   "execution_count": 6,
>>>>>>> 05f7c8d6d8372d1705b883fe8bd5ae6556ce883a
   "metadata": {},
   "outputs": [
    {
     "name": "stdout",
     "output_type": "stream",
     "text": [
<<<<<<< HEAD
      "Score:13.1677%\n"
=======
      "Score:11.4286%\n"
>>>>>>> 05f7c8d6d8372d1705b883fe8bd5ae6556ce883a
     ]
    }
   ],
   "source": [
    "correct = 0\n",
    "for sample in df.values:\n",
    "\tl = sample[0]\n",
    "\tw = sample[1]\n",
    "\tif M.loc[l,w] == sample[4]:\n",
    "\t\tcorrect+=1\n",
    "print(f'Score:{round(correct/M.size * 100,4)}%')"
   ]
  },
  {
   "cell_type": "code",
<<<<<<< HEAD
   "execution_count": 28,
=======
   "execution_count": 7,
>>>>>>> 05f7c8d6d8372d1705b883fe8bd5ae6556ce883a
   "metadata": {},
   "outputs": [
    {
     "name": "stdout",
     "output_type": "stream",
     "text": [
      "Number of correct  predictions = 37/38 = 97.3684%\n",
      "Train score = 1.0, Test score = 0.9737\n"
     ]
    }
   ],
   "source": [
    "from sklearn.model_selection import train_test_split\n",
    "from sklearn import tree\n",
    "\n",
    "xtrain,xtest,ytrain,ytest = train_test_split(iris.data,iris.target,random_state=0)\n",
    "\n",
    "clf = tree.DecisionTreeClassifier(random_state=0)\n",
    "\n",
    "clf.fit(xtrain,ytrain)\n",
    "\n",
    "yhat = clf.predict(xtest)\n",
    "\n",
    "count = 0\n",
    "Mtest = len(ytest)\n",
    "for i in range(Mtest):\n",
    "    if (yhat[i]==ytest[i]):\n",
    "        count+=1\n",
    "score = (count/Mtest)*100\n",
    "print(f'Number of correct  predictions = {count}/{Mtest} = {round(score,4)}%')\n",
    "print(f'Train score = {clf.score(xtrain,ytrain)}, Test score = {round(clf.score(xtest,ytest),4)}')\n"
   ]
  },
  {
   "cell_type": "code",
<<<<<<< HEAD
   "execution_count": 29,
=======
   "execution_count": 8,
>>>>>>> 05f7c8d6d8372d1705b883fe8bd5ae6556ce883a
   "metadata": {},
   "outputs": [
    {
     "name": "stdout",
     "output_type": "stream",
     "text": [
      "Accuracy score=0.9736842105263158\n"
     ]
    },
    {
     "data": {
<<<<<<< HEAD
      "image/png": "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",
      "text/plain": [
       "<Figure size 640x480 with 2 Axes>"
      ]
     },
     "metadata": {},
=======
      "image/png": "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",
      "text/plain": [
       "<Figure size 432x288 with 2 Axes>"
      ]
     },
     "metadata": {
      "needs_background": "light"
     },
>>>>>>> 05f7c8d6d8372d1705b883fe8bd5ae6556ce883a
     "output_type": "display_data"
    },
    {
     "name": "stdout",
     "output_type": "stream",
     "text": [
      "Prediction scores [1.  1.  0.9]\n",
      "Recall scores [1.     0.9375 1.    ]\n",
      "f1 scores [1.         0.96774194 0.94736842]\n"
     ]
    }
   ],
   "source": [
    "from sklearn import metrics\n",
    "from sklearn.metrics import ConfusionMatrixDisplay\n",
    "import matplotlib.pyplot as plt\n",
    "\n",
    "print(f'Accuracy score={metrics.accuracy_score(ytest,yhat)}')\n",
    "\n",
    "cm = metrics.confusion_matrix(ytest,yhat)\n",
    "disp = ConfusionMatrixDisplay(confusion_matrix=cm,display_labels=clf.classes_)\n",
    "disp.plot()\n",
    "plt.show()\n",
    "\n",
    "pre = metrics.precision_score(ytest,yhat,average=None)\n",
    "print(f'Prediction scores {pre}')\n",
    "\n",
    "recall = metrics.recall_score(ytest,yhat,average=None)\n",
    "print(f'Recall scores {recall}')\n",
    "\n",
    "f1 = metrics.f1_score(ytest,yhat,average=None)\n",
    "print(f'f1 scores {f1}')\n"
   ]
  },
  {
   "cell_type": "code",
<<<<<<< HEAD
   "execution_count": 30,
=======
   "execution_count": 9,
>>>>>>> 05f7c8d6d8372d1705b883fe8bd5ae6556ce883a
   "metadata": {},
   "outputs": [],
   "source": [
    "decisionPath = clf.decision_path(iris.data)\n",
    "# print(decisionPath)\n",
    "tree.export_graphviz(clf,out_file='iris-tree.dot',class_names=iris.target_names,impurity=True)"
   ]
  },
  {
   "cell_type": "code",
<<<<<<< HEAD
   "execution_count": 31,
=======
   "execution_count": 10,
>>>>>>> 05f7c8d6d8372d1705b883fe8bd5ae6556ce883a
   "metadata": {},
   "outputs": [
    {
     "name": "stdout",
     "output_type": "stream",
     "text": [
      "[[5.8 2.8]\n",
      " [6.  2.2]\n",
      " [5.5 4.2]\n",
      " [7.3 2.9]\n",
      " [5.  3.4]\n",
      " [6.3 3.3]\n",
      " [5.  3.5]\n",
      " [6.7 3.1]\n",
      " [6.8 2.8]\n",
      " [6.1 2.8]\n",
      " [6.1 2.6]\n",
      " [6.4 3.2]\n",
      " [6.1 2.8]\n",
      " [6.5 2.8]\n",
      " [6.1 2.9]\n",
      " [4.9 3.6]\n",
      " [6.  2.9]\n",
      " [5.5 2.6]\n",
      " [4.8 3. ]\n",
      " [5.4 3.9]\n",
      " [5.6 2.8]\n",
      " [5.6 3. ]\n",
      " [4.8 3.4]\n",
      " [4.4 2.9]\n",
      " [6.2 2.8]\n",
      " [4.6 3.6]\n",
      " [5.1 3.8]\n",
      " [6.2 2.9]\n",
      " [5.  2.3]\n",
      " [5.  3.4]\n",
      " [6.4 3.1]\n",
      " [5.4 3. ]\n",
      " [5.2 3.5]\n",
      " [6.1 3. ]\n",
      " [6.4 2.8]\n",
      " [5.2 2.7]\n",
      " [5.7 3.8]\n",
      " [6.  2.7]]\n"
     ]
    },
    {
     "name": "stdout",
     "output_type": "stream",
     "text": [
      "Train score = 0.8392857142857143, Test score = 0.7895\n",
      "Accuracy score=0.7894736842105263\n"
     ]
    },
    {
     "data": {
<<<<<<< HEAD
      "image/png": "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",
      "text/plain": [
       "<Figure size 640x480 with 2 Axes>"
      ]
     },
     "metadata": {},
=======
      "image/png": "iVBORw0KGgoAAAANSUhEUgAAATIAAAEGCAYAAADmLRl+AAAABHNCSVQICAgIfAhkiAAAAAlwSFlzAAALEgAACxIB0t1+/AAAADh0RVh0U29mdHdhcmUAbWF0cGxvdGxpYiB2ZXJzaW9uMy4xLjIsIGh0dHA6Ly9tYXRwbG90bGliLm9yZy8li6FKAAAZYklEQVR4nO3de5gdVZnv8e+vO52EXDohF3IjmIAIRGbkEhHEcQIo4GUEVOYQldFR4cDR8T4eODgPx2FAzjg6OsBRexBRgSCIHBHBcBfhIZAAAQkhCUQSchvSCSSYhKS793v+2DuhSUK6avfeXVW7f5/nqYdd1bXXersS3qxatdYqRQRmZkXWlHUAZma95URmZoXnRGZmhedEZmaF50RmZoU3IOsAuhszqjmmTG7JOozcWvzkkKxDsIJ7lU1si63qTRknHTc01q3vSnTuo09unR0RJ/emviRylcimTG7hkdmTsw4jt06aeFjWIVjBPRx397qMdeu7eGT2fonObZ6wZEyvK0wgV4nMzPIvgBKlrMN4HScyM0slCDoi2a1lX3EiM7PU3CIzs0ILgq6cTW10IjOz1Eo4kZlZgQXQ5URmZkXnFpmZFVoAHe4jM7MiC8K3lmZWcAFd+cpjTmRmlk55ZH++OJGZWUqii17NO685L+NjZqmUO/uVaOuJpKskvSjpqW7Hvi3pGUlPSrpZ0sieynEiM7NUyuPIlGhL4Gpg52V+7gQOjYi/BBYD5/dUiBOZmaVWCiXaehIR9wPrdzp2R0R0VnbnAPv2VI77yMwsle0tsoTGSJrXbb8tItpSVPdp4Bc9neREZmapBKIr+c1ce0RMr6YeSRcAncC1PZ3rRGZmqSW5bewNSZ8EPgicEAneIu5EZmapBGJbNNetfEknA/8T+OuI2JzkO05kZpZKeUBsbZ4TSpoFzKDcl7YCuJDyU8pBwJ2SAOZExDl7KseJzMxSq9WA2IiYuZvDP05bjhOZmaUSIboiXyO3nMjMLLVSzqYoOZGZWSrlzv58pY58RWNmuVfLzv5acSIzs9S66jyOLC0nMjNLJeXI/j7hRGZmqZX81NLMiqw8adyJzMwKLBAddZyiVA0nsorvfHkyD9/VysgxnbTduwiAn/7reB6aPQIJRo7p4GvfW87o8Z09lNQ/TJ+xkXMuWkVzU3D7rFHccPm4rEPKlUa+PhHkbkBsXaORdLKkRZKelXRePevqrRP/23ouvnbp64599NwX+eHdi/jBXYt4x3s2cs2/j88ounxpago+d8lKvvHxqZw14yCOO+Vl9jvw1azDyo3Gvz6ilHDrK3VLZJKagSuA9wHTgJmSptWrvt76i6M3MXzvrtcdGzr8tXfFvLqlCeXriXNmDjp8M6ueH8ia5YPo7Gjivl+P5JiTNmQdVm40+vUJyi2yJFtfqeet5VHAsxGxFEDS9cApwNN1rLPmfnLpeO66cRRDW7v4118+m3U4uTB6fAdrVw3csd++uoWDj0i02kq/0B+uT946++sZzSTghW77KyrHCuXvz1vDtY8+zfEffolbrhqbdTi5sLuWac9L3/UfjX59gmTr9dd78cXu6pnIdvdb7PLHKelsSfMkzVu7rms3X8mH4057iQduG5F1GLnQvrqFsRO37dgfM6GDdWtaMowoXxr9+pRfBzcg0dZX6pnIVgCTu+3vC6za+aSIaIuI6RExfezofD3SXbn0tduDObNHMPnNWzOMJj8WzR/CpKnbGDd5KwNaSsw45WXm3OEkv13jX59kr4Lry5f41jNlzgUOlDQVWAmcAXysjvX1yrfOfRNPPjSMDesH8PEjp3HmV9fwyD2trHhuEE1NsM+kbXzh/6zIOsxcKHWJKy6YxCXXLaWpGe64fhTLFg/OOqzcaPTrE/Sjkf0R0Snp88BsoBm4KiIW1Ku+3jr/B8t2OXbyx9bv5kwDmHtPK3Pvac06jNxq9OvTl62tJOp6ExsRtwG31bMOM+tbEeo/LTIza0zlzv589Wc7kZlZSl6z38wKrtzZ34/6yMysMeVtZL8TmZmlsn1kf57kK62aWSGUaEq09UTSVZJelPRUt2OjJN0paUnlv3v3VI4TmZmlEgEdpaZEWwJXAyfvdOw84O6IOBC4u7K/R05kZpZK+dayKdHWY1kR9wM7jzw/Bfhp5fNPgVN7Ksd9ZGaWWp1H9o+LiNUAEbFa0j49fcGJzMxSSTn8Yoyked322yKirdYxOZGZWUqppii1R8T0lBX8l6QJldbYBODFnr7gPjIzS63Oa/bfAnyy8vmTwK97+oJbZGaWSvmpZW3mWkqaBcygfAu6ArgQuBS4QdJngOXA6T2V40RmZqnUckBsRMx8gx+dkKYcJzIzS60vX/WWhBOZmaXiSeNm1hC8sKKZFVqE6HQiM7Oi862lmRWa+8jMrCE4kZlZoeVxYUUnMjNLzePIzKzQIqAz2aKJfcaJzMxS862lmRWa+8jMrCGEE5mZFZ07+82s0CLcR2ZmhSe6/NTSzIrOfWR7sPjJIZw08bCsw8itjyzs8R0M/d7lV/b4CsR+rePnc3pdhudamlnxRbmfLE+cyMwsNT+1NLNCC3f2m1kj8K2lmRWen1qaWaFFOJGZWQPI2/CLfPXYmVkhRCTbeiLpy5IWSHpK0ixJg6uJx4nMzFIJRKnUlGjbE0mTgC8A0yPiUKAZOKOamHxraWap1fCh5QBgL0kdwBBgVTWFuEVmZulUOvuTbMAYSfO6bWfvKCZiJfBvwHJgNbAhIu6oJiS3yMwsveRNsvaImL67H0jaGzgFmAq8DNwo6RMRcU3acN4wkUlq3dMXI2Jj2srMrDHUaPjFe4A/RcRaAEm/At4J1C6RAQso593uEW/fD2C/tJWZWfEFUCrVJJEtB46WNATYApwAzKumoDdMZBExubrYzKyhBVCDFllEPCzpl8BjQCfwONBWTVmJ+sgknQHsHxGXSNoXGBcRj1ZToZkVX63mWkbEhcCFvS2nx6eWki4HjgPOrBzaDPywtxWbWYFFwq2PJGmRvTMijpD0OEBErJc0sM5xmVluqZBzLTskNVHJr5JGA6W6RmVm+VbAZXyuAG4Cxkr6JvC3wDfrGpWZ5VdA1OapZc30mMgi4meSHqU85gPg9Ih4qr5hmVm+FSyRVTQDHZQblJ7WZNbf5ezWMslTywuAWcBEYF/gOknn1zswM8uxAj61/ARwZERsBpB0MfAo8K16BmZmOVWjAbG1lCSRLdvpvAHA0vqEY2ZFUJiXj0j6d8q5dzOwQNLsyv6JwAN9E56Z5VKBnlpufzK5APhtt+O9f+e6mRWaitIii4gf92UgZlYQfdyRn0SPfWSSDgAuBqYBO14MEBFvqWNcZpZbyl1nf5IxYVcDP6E8Au59wA3A9XWMyczyLmfDL5IksiERMRsgIp6LiG9QXg3DzPqrUsKtjyQZfrFVkoDnJJ0DrAT2qW9Y2Zo+YyPnXLSK5qbg9lmjuOHycVmHlLl5FwxnzX2DGDSqxHt/sx6AFb8bxNOXD+WVpc0cf8NL7H1oZ8ZR5sftn72Gzdta6ArRVWpi5rUfzTqk2inoOLIvA8Mov3/uYmAE8OmeviTpKuCDwIuVd9YVQlNT8LlLVnL+GfvTvrqFy25bwpzZI1i+pKr3hjaMN536Kgd8bAvzznvtVQ6tB3ZyzGUbeOzC4RlGll+fufFDvLxlr6zDqIvCPLXcLiIernx8hdcWV0ziauBy4Gfpw8rOQYdvZtXzA1mzfBAA9/16JMectKHfJ7Kxb+9g08rX90S0HtCVUTSWuaIkMkk3s4dwI+LDeyo4Iu6XNKXqyDIyenwHa1e9tm5k++oWDj5ic4YRWVH96CO3EsCNT7yVm/44LetwGtqeWmSX90UAlRd2ng0wmCF9UeUeaTe3/nmbjmH593ezTmPtpqGM2mszP/rorTy/fiSPrpyYdVg1U5hby4i4uy8CiIg2Km9OadWozC9P++oWxk7ctmN/zIQO1q1pyTAiK6K1m4YCsH7LEO55diqHTnixcRJZkLspSl5bbCeL5g9h0tRtjJu8lQEtJWac8jJz7hiRdVhWIHsN6GBIy7Ydn4+Z8gLPto/KOKoay9k4sqQLK/YbpS5xxQWTuOS6pTQ1wx3Xj2LZ4v7d0Q/w8FdbaX+kha0vN3HbjNEc8vlNDBxR4omLh7N1fRMPnjOSEQd38FdXbsg61MyNGrqF733odwA0N5W4/ZkDefD5xnqfdWFuLXcmaVBEbE1x/ixgBjBG0grgwqLM35x7Tytz72nt+cR+5B3f2bjb45Peu66PI8m/lRtaOf3nf5t1GPWVs0SWZIXYoyT9EVhS2X+bpMt6+l5EzIyICRHREhH7FiWJmVkCNbq1lDRS0i8lPSNpoaRjqgknSR/Zf1Ae2LoOICKewFOUzPotRfItge8Dv4uIg4G3AQuriSnJrWVTRCzT68cleCSkWX9Wg6eWklqBdwOfAoiIbcC2PX3njSRpkb0g6SggJDVL+hKwuJrKzKwxpGiRjZE0r9t2drdi9gfWAj+R9LikKyUNrSaeJInsXOArwH7AfwFHV46ZWX+VvI+sPSKmd9vaupUyADgC+EFEHA5sAs6rJpwkcy1fBM6opnAza0DJ+796sgJY0W0+9y+pVyKT9J/s5vlDRJy9m9PNrD+oQSKLiDWSXpB0UEQsAk4Anq6mrCSd/Xd1+zwYOA14oZrKzKwxqHaLJv4DcK2kgZRfM/n31RSS5NbyF933Jf0cuLOayszMuouI+cD03pZTzRSlqcCbeluxmRVYzkb2J+kje4nXwm4C1lNlh5yZNYDadfbXzB4TWWWt/rdRXqcfoBTh1bnM+r2cZYE9jiOrJK2bI6KrsuUsfDPLRM6W8UkyIPYRSUfUPRIzKwRRfmqZZOsre1qzf0BEdALvAs6S9Bzlkbei3FhzcjPrjwrWR/YI5ekDp/ZRLGZWFAVKZILy28X7KBYzK4oCJbKxkr7yRj+MiO/WIR4zK4Ai3Vo2U37DeL5el2Jm2StQIlsdEf/cZ5GYWTFE3z6RTKLHPjIzs10UqEV2Qp9FYWaFUpg+sohY35eBmFmBFCWRmZntVh9PP0rCiczMUhEFurU0M3sjTmRmVnxOZGZWeE5kZlZoBVv9wsxs95zIzKzoijRFyXLmuq99IOsQcu/VY3PWVMiZqNH/8b61NLNi84BYM2sIOUtkSV4+Yma2w/aR/Um2ROVJzZIel3RrtTG5RWZmqalU0ybZF4GFQGu1BbhFZmbpJH2nZYJcJ2lf4APAlb0JyS0yM0stxVPLMZLmddtvi4i2bvvfA74ODO9NPE5kZpZe8kTWHhHTd/cDSR8EXoyIRyXN6E04TmRmllqNxpEdC3xI0vuBwUCrpGsi4hNpC3IfmZmlV4M+sog4PyL2jYgpwBnAPdUkMXCLzMzSKthblMzMdlGPFWIj4j7gvmq/70RmZulFvob2O5GZWWqeNG5mxeZJ42bWCNzZb2aF50RmZsUWuLPfzIrPnf1mVnxOZGZWZPUYENtbTmRmlk5ErRdW7DUnMjNLL195zInMzNLzraWZFVsAvrU0s8LLVx5zIjOz9HxraWaF56eWZlZsXv3CzIquPCA2X5nMiczM0vPqF2ZWdG6RFcD0GRs556JVNDcFt88axQ2Xj8s6pFwZOKCT73/9t7QM6KK5ucTvH53K1bccmXVYuTJ84FYufufvecve64mA8x+cwfy147MOqzb6Ux+ZpMnAz4DxlBuibRHx/XrVVytNTcHnLlnJ+WfsT/vqFi67bQlzZo9g+ZLBWYeWG9s6m/nKd97Plq0tNDeXuOzrv+GRpybz9NJ9sg4tN75x1IP8YeVkvnDfibQ0dTF4QGfWIdVQ/uZa1vMFvZ3AVyPiEOBo4HOSptWxvpo46PDNrHp+IGuWD6Kzo4n7fj2SY07akHVYOSO2bG0BYEBziQHNpbyts5epoS3bmD5uNTcuORiAjlIzr2wblHFUNRaRbOsjdWuRRcRqYHXl8yuSFgKTgKfrVWctjB7fwdpVA3fst69u4eAjNmcYUT41qUTbP/0/Jo3dyM33TWPhn9wa226/4Rt56dXBXPquezl473UsWDeWf3nkWLZ0tmQdWm3k8AW99WyR7SBpCnA48HBf1Ncb0q7H3NrYVSma+Ow/f5jTvz6TQ6asZerE9VmHlBvNKjFtdDvXPfNWTv3N6WzuHMDZf/F41mHVVg1aZJImS7pX0kJJCyR9sdpw6p7IJA0DbgK+FBEbd/PzsyXNkzSvg631DqdH7atbGDtx2479MRM6WLemQf4lrYM/bxnE/MUTOOrQFVmHkhtrNg9jzeahPNlefkg0+/kDeOuo9oyjqrFIuO1Zzbqf6prIJLVQTmLXRsSvdndORLRFxPSImN5C9v0Ii+YPYdLUbYybvJUBLSVmnPIyc+4YkXVYuTJi2BaG7VX+R2dgSydHHrKS5WtGZhxVfrRvGcKaTcOY2voyAMdMXMGzG/bOOKraUqmUaNuTiFgdEY9VPr8CbO9+Sq2eTy0F/BhYGBHfrVc9tVbqEldcMIlLrltKUzPccf0oli32E8vuRo/YzPmfvp+mphJNgnvnTeWhJ/fLOqxcuejhd/Fv776blqYuVvy5lfMeOC7rkGonSDMgdoyked322yKibeeTetv9VM9xZMcCZwJ/lDS/cux/RcRtdayzJube08rce1qzDiO3lq4czVkXnZZ1GLm2cP0YPnLrR7IOoy5EpBkQ2x4R0/dYXg/dT0nU86nlA5SnZZlZo6nRE7Ak3U9JeGS/maVXg0RWy+6nPhl+YWYNZHsfWZJtz7Z3Px0vaX5le381IblFZmap9fREMoladj85kZlZSn07/SgJJzIzSydwIjOzBpCzuZZOZGaWmhdWNLPicyIzs0KLgK583Vs6kZlZem6RmVnhOZGZWaEFkLM1+53IzCylgHAfmZkVWeDOfjNrAO4jM7PCcyIzs2LzpHEzK7oAarCMTy05kZlZem6RmVmxeYqSmRVdQHgcmZkVnkf2m1nhuY/MzAotwk8tzawBuEVmZsUWRFdX1kG8jhOZmaXjZXzMrCHkbPhFU9YBmFmxBBClSLT1RNLJkhZJelbSedXG5ERmZulEZWHFJNseSGoGrgDeB0wDZkqaVk1IvrU0s9Rq1Nl/FPBsRCwFkHQ9cArwdNqCFDl6jCppLbAs6zi6GQO0Zx1Ejvn69Cxv1+hNETG2NwVI+h3l3yuJwcCr3fbbIqKtUs5HgZMj4rOV/TOBd0TE59PGlKsWWW8vcK1JmhcR07OOI698fXrWiNcoIk6uUVHaXfHVFOQ+MjPLygpgcrf9fYFV1RTkRGZmWZkLHChpqqSBwBnALdUUlKtbyxxqyzqAnPP16Zmv0RuIiE5JnwdmA83AVRGxoJqyctXZb2ZWDd9amlnhOZGZWeE5ke1GraZNNCpJV0l6UdJTWceSR5ImS7pX0kJJCyR9MeuYGp37yHZSmTaxGHgv5cfDc4GZEZF6tHGjkvRu4M/AzyLi0KzjyRtJE4AJEfGYpOHAo8Cp/jtUP26R7WrHtImI2AZsnzZhFRFxP7A+6zjyKiJWR8Rjlc+vAAuBSdlG1dicyHY1CXih2/4K/JfQqiRpCnA48HC2kTQ2J7Jd1WzahPVvkoYBNwFfioiNWcfTyJzIdlWzaRPWf0lqoZzEro2IX2UdT6NzIttVzaZNWP8kScCPgYUR8d2s4+kPnMh2EhGdwPZpEwuBG6qdNtGoJM0CHgIOkrRC0meyjilnjgXOBI6XNL+yvT/roBqZh1+YWeG5RWZmhedEZmaF50RmZoXnRGZmhedEZmaF50RWIJK6Ko/yn5J0o6QhvShrhqRbK58/tKdVPiSNlPQ/qqjjf0v6WtLjO51zdeUtO0nrmuLVOPovJ7Ji2RIRh1VWnNgGnNP9hypL/WcaEbdExKV7OGUkkDqRmfUVJ7Li+gPw5kpLZKGk/ws8BkyWdKKkhyQ9Vmm5DYMd66w9I+kB4MPbC5L0KUmXVz6Pk3SzpCcq2zuBS4EDKq3Bb1fO+0dJcyU9Kemb3cq6oLKW213AQT39EpLOqpTzhKSbdmplvkfSHyQtlvTByvnNkr7dre7/3tsLacXnRFZAkgZQfs38HyuHDqK8NtjhwCbgG8B7IuIIYB7wFUmDgf8E/gb4K2D8GxT/H8DvI+JtwBHAAuA84LlKa/AfJZ0IHEh5yaPDgCMlvVvSkZSndB1OOVG+PcGv86uIeHulvoVA91kCU4C/Bj4A/LDyO3wG2BARb6+Uf5akqQnqsQbmtygVy16S5lc+/4HyfL6JwLKImFM5fjQwDXiwPOWPgZSnEx0M/CkilgBIugY4ezd1HA/8HUBEdAEbJO290zknVrbHK/vDKCe24cDNEbG5UkeSOaqHSvoXyrevwyhPDdvuhogoAUskLa38DicCf9mt/2xEpe7FCeqyBuVEVixbIuKw7gcqyWpT90PAnRExc6fzDqN2yxEJ+FZE/GinOr5URR1XU1499QlJnwJmdPvZzmVFpe5/iIjuCW/7ul/WT/nWsvHMAY6V9GYASUMkvQV4Bpgq6YDKeTPf4Pt3A+dWvtssqRV4hXJra7vZwKe79b1NkrQPcD9wmqS9Kks8/02CeIcDqyvL3nx8p5+dLqmpEvP+wKJK3edWzkfSWyQNTVCPNTC3yBpMRKyttGxmSRpUOfyNiFgs6Wzgt5LagQeA3a23/0WgrbKiRRdwbkQ8JOnByvCG2yv9ZIcAD1VahH8GPlFZo/4XwHxgGeXb3578E+XVU5dR7vPrnjAXAb8HxgHnRMSrkq6k3Hf2WGW5nLXAqcmujjUqr35hZoXnW0szKzwnMjMrPCcyMys8JzIzKzwnMjMrPCcyMys8JzIzK7z/D7Wz/jn0pw4qAAAAAElFTkSuQmCC",
      "text/plain": [
       "<Figure size 432x288 with 2 Axes>"
      ]
     },
     "metadata": {
      "needs_background": "light"
     },
>>>>>>> 05f7c8d6d8372d1705b883fe8bd5ae6556ce883a
     "output_type": "display_data"
    },
    {
     "name": "stdout",
     "output_type": "stream",
     "text": [
      "Prediction scores [1.         0.78571429 0.54545455]\n",
      "Recall scores [1.         0.6875     0.66666667]\n",
      "f1 scores [1.         0.73333333 0.6       ]\n"
     ]
    }
   ],
   "source": [
    "# Logistic Regression on iris dataset\n",
    "import sklearn.linear_model as linear_model\n",
    "\n",
    "xtrain,xtest,ytrain,ytest = train_test_split(iris.data[:,:2],iris.target,random_state=0)\n",
    "\n",
    "print(xtest)\n",
    "\n",
    "lr = linear_model.LogisticRegression(solver='lbfgs', multi_class='multinomial')\n",
    "lr.fit(xtrain,ytrain)\n",
    "\n",
    "yhat = lr.predict(xtest)\n",
    "\n",
    "print(f'Train score = {lr.score(xtrain,ytrain)}, Test score = {round(lr.score(xtest,ytest),4)}')\n",
    "\n",
    "print(f'Accuracy score={metrics.accuracy_score(ytest,yhat)}')\n",
    "\n",
    "cm = metrics.confusion_matrix(ytest,yhat)\n",
    "disp = ConfusionMatrixDisplay(confusion_matrix=cm,display_labels=clf.classes_)\n",
    "disp.plot()\n",
    "plt.show()\n",
    "\n",
    "pre = metrics.precision_score(ytest,yhat,average=None)\n",
    "print(f'Prediction scores {pre}')\n",
    "\n",
    "recall = metrics.recall_score(ytest,yhat,average=None)\n",
    "print(f'Recall scores {recall}')\n",
    "\n",
    "f1 = metrics.f1_score(ytest,yhat,average=None)\n",
    "print(f'f1 scores {f1}')"
   ]
  },
  {
   "cell_type": "code",
<<<<<<< HEAD
   "execution_count": 32,
   "metadata": {},
   "outputs": [
    {
     "ename": "TypeError",
     "evalue": "Dimensions of C (241, 380) should be one smaller than X(380) and Y(241) while using shading='flat' see help(pcolormesh)",
     "output_type": "error",
     "traceback": [
      "\u001b[0;31m---------------------------------------------------------------------------\u001b[0m",
      "\u001b[0;31mTypeError\u001b[0m                                 Traceback (most recent call last)",
      "\u001b[1;32m/home/linus/Projects/data-mining-tasks/3-Rule-Classification/classifier.ipynb Cell 10\u001b[0m line \u001b[0;36m1\n\u001b[1;32m      <a href='vscode-notebook-cell:/home/linus/Projects/data-mining-tasks/3-Rule-Classification/classifier.ipynb#X20sZmlsZQ%3D%3D?line=7'>8</a>\u001b[0m fig, ax \u001b[39m=\u001b[39m plt\u001b[39m.\u001b[39msubplots()\n\u001b[1;32m     <a href='vscode-notebook-cell:/home/linus/Projects/data-mining-tasks/3-Rule-Classification/classifier.ipynb#X20sZmlsZQ%3D%3D?line=9'>10</a>\u001b[0m \u001b[39m# Plot colormesh\u001b[39;00m\n\u001b[0;32m---> <a href='vscode-notebook-cell:/home/linus/Projects/data-mining-tasks/3-Rule-Classification/classifier.ipynb#X20sZmlsZQ%3D%3D?line=10'>11</a>\u001b[0m pcm \u001b[39m=\u001b[39m ax\u001b[39m.\u001b[39;49mpcolormesh(x0, x1, yhatmesh, shading\u001b[39m=\u001b[39;49m\u001b[39m'\u001b[39;49m\u001b[39mflat\u001b[39;49m\u001b[39m'\u001b[39;49m, cmap\u001b[39m=\u001b[39;49m\u001b[39m'\u001b[39;49m\u001b[39mBlues\u001b[39;49m\u001b[39m'\u001b[39;49m)\n\u001b[1;32m     <a href='vscode-notebook-cell:/home/linus/Projects/data-mining-tasks/3-Rule-Classification/classifier.ipynb#X20sZmlsZQ%3D%3D?line=12'>13</a>\u001b[0m \u001b[39m# Plot scatter on the same axes\u001b[39;00m\n\u001b[1;32m     <a href='vscode-notebook-cell:/home/linus/Projects/data-mining-tasks/3-Rule-Classification/classifier.ipynb#X20sZmlsZQ%3D%3D?line=13'>14</a>\u001b[0m scatter \u001b[39m=\u001b[39m ax\u001b[39m.\u001b[39mscatter(xtest[:, \u001b[39m0\u001b[39m], xtest[:, \u001b[39m1\u001b[39m], c\u001b[39m=\u001b[39myhat, cmap\u001b[39m=\u001b[39m\u001b[39m'\u001b[39m\u001b[39mviridis\u001b[39m\u001b[39m'\u001b[39m)\n",
      "File \u001b[0;32m~/.conda/envs/condaenv/lib/python3.12/site-packages/matplotlib/__init__.py:1465\u001b[0m, in \u001b[0;36m_preprocess_data.<locals>.inner\u001b[0;34m(ax, data, *args, **kwargs)\u001b[0m\n\u001b[1;32m   1462\u001b[0m \u001b[39m@functools\u001b[39m\u001b[39m.\u001b[39mwraps(func)\n\u001b[1;32m   1463\u001b[0m \u001b[39mdef\u001b[39;00m \u001b[39minner\u001b[39m(ax, \u001b[39m*\u001b[39margs, data\u001b[39m=\u001b[39m\u001b[39mNone\u001b[39;00m, \u001b[39m*\u001b[39m\u001b[39m*\u001b[39mkwargs):\n\u001b[1;32m   1464\u001b[0m     \u001b[39mif\u001b[39;00m data \u001b[39mis\u001b[39;00m \u001b[39mNone\u001b[39;00m:\n\u001b[0;32m-> 1465\u001b[0m         \u001b[39mreturn\u001b[39;00m func(ax, \u001b[39m*\u001b[39;49m\u001b[39mmap\u001b[39;49m(sanitize_sequence, args), \u001b[39m*\u001b[39;49m\u001b[39m*\u001b[39;49mkwargs)\n\u001b[1;32m   1467\u001b[0m     bound \u001b[39m=\u001b[39m new_sig\u001b[39m.\u001b[39mbind(ax, \u001b[39m*\u001b[39margs, \u001b[39m*\u001b[39m\u001b[39m*\u001b[39mkwargs)\n\u001b[1;32m   1468\u001b[0m     auto_label \u001b[39m=\u001b[39m (bound\u001b[39m.\u001b[39marguments\u001b[39m.\u001b[39mget(label_namer)\n\u001b[1;32m   1469\u001b[0m                   \u001b[39mor\u001b[39;00m bound\u001b[39m.\u001b[39mkwargs\u001b[39m.\u001b[39mget(label_namer))\n",
      "File \u001b[0;32m~/.conda/envs/condaenv/lib/python3.12/site-packages/matplotlib/axes/_axes.py:6284\u001b[0m, in \u001b[0;36mAxes.pcolormesh\u001b[0;34m(self, alpha, norm, cmap, vmin, vmax, shading, antialiased, *args, **kwargs)\u001b[0m\n\u001b[1;32m   6281\u001b[0m shading \u001b[39m=\u001b[39m shading\u001b[39m.\u001b[39mlower()\n\u001b[1;32m   6282\u001b[0m kwargs\u001b[39m.\u001b[39msetdefault(\u001b[39m'\u001b[39m\u001b[39medgecolors\u001b[39m\u001b[39m'\u001b[39m, \u001b[39m'\u001b[39m\u001b[39mnone\u001b[39m\u001b[39m'\u001b[39m)\n\u001b[0;32m-> 6284\u001b[0m X, Y, C, shading \u001b[39m=\u001b[39m \u001b[39mself\u001b[39;49m\u001b[39m.\u001b[39;49m_pcolorargs(\u001b[39m'\u001b[39;49m\u001b[39mpcolormesh\u001b[39;49m\u001b[39m'\u001b[39;49m, \u001b[39m*\u001b[39;49margs,\n\u001b[1;32m   6285\u001b[0m                                     shading\u001b[39m=\u001b[39;49mshading, kwargs\u001b[39m=\u001b[39;49mkwargs)\n\u001b[1;32m   6286\u001b[0m coords \u001b[39m=\u001b[39m np\u001b[39m.\u001b[39mstack([X, Y], axis\u001b[39m=\u001b[39m\u001b[39m-\u001b[39m\u001b[39m1\u001b[39m)\n\u001b[1;32m   6288\u001b[0m kwargs\u001b[39m.\u001b[39msetdefault(\u001b[39m'\u001b[39m\u001b[39msnap\u001b[39m\u001b[39m'\u001b[39m, mpl\u001b[39m.\u001b[39mrcParams[\u001b[39m'\u001b[39m\u001b[39mpcolormesh.snap\u001b[39m\u001b[39m'\u001b[39m])\n",
      "File \u001b[0;32m~/.conda/envs/condaenv/lib/python3.12/site-packages/matplotlib/axes/_axes.py:5831\u001b[0m, in \u001b[0;36mAxes._pcolorargs\u001b[0;34m(self, funcname, shading, *args, **kwargs)\u001b[0m\n\u001b[1;32m   5829\u001b[0m \u001b[39mif\u001b[39;00m shading \u001b[39m==\u001b[39m \u001b[39m'\u001b[39m\u001b[39mflat\u001b[39m\u001b[39m'\u001b[39m:\n\u001b[1;32m   5830\u001b[0m     \u001b[39mif\u001b[39;00m (Nx, Ny) \u001b[39m!=\u001b[39m (ncols \u001b[39m+\u001b[39m \u001b[39m1\u001b[39m, nrows \u001b[39m+\u001b[39m \u001b[39m1\u001b[39m):\n\u001b[0;32m-> 5831\u001b[0m         \u001b[39mraise\u001b[39;00m \u001b[39mTypeError\u001b[39;00m(\u001b[39mf\u001b[39m\u001b[39m\"\u001b[39m\u001b[39mDimensions of C \u001b[39m\u001b[39m{\u001b[39;00mC\u001b[39m.\u001b[39mshape\u001b[39m}\u001b[39;00m\u001b[39m should\u001b[39m\u001b[39m\"\u001b[39m\n\u001b[1;32m   5832\u001b[0m                         \u001b[39mf\u001b[39m\u001b[39m\"\u001b[39m\u001b[39m be one smaller than X(\u001b[39m\u001b[39m{\u001b[39;00mNx\u001b[39m}\u001b[39;00m\u001b[39m) and Y(\u001b[39m\u001b[39m{\u001b[39;00mNy\u001b[39m}\u001b[39;00m\u001b[39m)\u001b[39m\u001b[39m\"\u001b[39m\n\u001b[1;32m   5833\u001b[0m                         \u001b[39mf\u001b[39m\u001b[39m\"\u001b[39m\u001b[39m while using shading=\u001b[39m\u001b[39m'\u001b[39m\u001b[39mflat\u001b[39m\u001b[39m'\u001b[39m\u001b[39m\"\u001b[39m\n\u001b[1;32m   5834\u001b[0m                         \u001b[39mf\u001b[39m\u001b[39m\"\u001b[39m\u001b[39m see help(\u001b[39m\u001b[39m{\u001b[39;00mfuncname\u001b[39m}\u001b[39;00m\u001b[39m)\u001b[39m\u001b[39m\"\u001b[39m)\n\u001b[1;32m   5835\u001b[0m \u001b[39melse\u001b[39;00m:    \u001b[39m# ['nearest', 'gouraud']:\u001b[39;00m\n\u001b[1;32m   5836\u001b[0m     \u001b[39mif\u001b[39;00m (Nx, Ny) \u001b[39m!=\u001b[39m (ncols, nrows):\n",
      "\u001b[0;31mTypeError\u001b[0m: Dimensions of C (241, 380) should be one smaller than X(380) and Y(241) while using shading='flat' see help(pcolormesh)"
     ]
    },
    {
     "data": {
      "image/png": "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",
      "text/plain": [
       "<Figure size 640x480 with 1 Axes>"
      ]
     },
     "metadata": {},
=======
   "execution_count": 21,
   "metadata": {},
   "outputs": [
    {
     "data": {
      "image/png": "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",
      "text/plain": [
       "<Figure size 432x288 with 1 Axes>"
      ]
     },
     "metadata": {
      "needs_background": "light"
     },
>>>>>>> 05f7c8d6d8372d1705b883fe8bd5ae6556ce883a
     "output_type": "display_data"
    }
   ],
   "source": [
    "x0range = np.arange(4.2,8,0.01)\n",
    "x1range = np.arange(2,4.4,0.01)\n",
    "x0,x1=np.meshgrid(x0range,x1range)\n",
    "xpairs = np.column_stack((x0.ravel(), x1.ravel()))\n",
    "yhatpairs = lr.predict(xpairs)\n",
    "yhatmesh = yhatpairs.reshape(x0.shape)\n",
    "\n",
    "fig, ax = plt.subplots()\n",
    "\n",
    "# Plot colormesh\n",
    "pcm = ax.pcolormesh(x0, x1, yhatmesh, shading='flat', cmap='Blues')\n",
    "\n",
    "# Plot scatter on the same axes\n",
    "scatter = ax.scatter(xtest[:, 0], xtest[:, 1], c=yhat, cmap='viridis')\n",
    "\n",
    "# Show the plot\n",
    "plt.show()"
   ]
  },
  {
   "cell_type": "code",
<<<<<<< HEAD
   "execution_count": null,
=======
   "execution_count": 12,
>>>>>>> 05f7c8d6d8372d1705b883fe8bd5ae6556ce883a
   "metadata": {},
   "outputs": [
    {
     "name": "stdout",
     "output_type": "stream",
     "text": [
      "0\n",
      "1\n",
      "2\n"
     ]
    },
    {
     "data": {
      "image/png": "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",
      "text/plain": [
       "<Figure size 432x288 with 1 Axes>"
      ]
     },
     "metadata": {
      "needs_background": "light"
     },
     "output_type": "display_data"
    }
   ],
   "source": [
    "import sklearn.preprocessing as preprocess\n",
    "\n",
    "conf = lr.decision_function(xpairs)\n",
    "\n",
    "ybin = preprocess.label_binarize(yhatpairs,classes=sorted(set(iris.target)))\n",
    "\n",
    "fpr = dict()\n",
    "tpr = dict()\n",
    "for c in range(3):\n",
    "    print(c)\n",
    "    fpr[c],tpr[c],tmp = metrics.roc_curve(ybin[:,c],conf[:,c])\n",
    "\n",
    "for c in range(3):\n",
    "    plt.plot(fpr[c],tpr[c],label=iris.target_names[c])\n",
    "\n",
    "plt.xlabel('FP rate')\n",
    "plt.ylabel('TP rate')\n",
    "plt.show()"
   ]
  }
 ],
 "metadata": {
  "kernelspec": {
   "display_name": "base",
   "language": "python",
   "name": "python3"
  },
  "language_info": {
   "codemirror_mode": {
    "name": "ipython",
    "version": 3
   },
   "file_extension": ".py",
   "mimetype": "text/x-python",
   "name": "python",
   "nbconvert_exporter": "python",
   "pygments_lexer": "ipython3",
   "version": "3.8.10"
  }
 },
 "nbformat": 4,
 "nbformat_minor": 2
}
