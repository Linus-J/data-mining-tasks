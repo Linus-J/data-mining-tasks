{
 "cells": [
  {
   "cell_type": "code",
   "execution_count": 13,
   "metadata": {},
   "outputs": [],
   "source": [
    "from sklearn.datasets import load_iris\n",
    "import pandas as pd\n",
    "import random\n",
    "import numpy as np\n",
    "iris = load_iris()\n",
    "data = pd.DataFrame(iris.data)\n",
    "data.columns = ['sepal_length', 'sepal_width', 'petal_length', 'petal_width']\n",
    "target = pd.DataFrame(iris.target)\n",
    "target = target.rename(columns = {0: 'target'})\n",
    "df = pd.concat([data, target], axis = 1)\n"
   ]
  },
  {
   "cell_type": "code",
   "execution_count": 14,
   "metadata": {},
   "outputs": [
    {
     "data": {
      "text/html": [
       "<div>\n",
       "<style scoped>\n",
       "    .dataframe tbody tr th:only-of-type {\n",
       "        vertical-align: middle;\n",
       "    }\n",
       "\n",
       "    .dataframe tbody tr th {\n",
       "        vertical-align: top;\n",
       "    }\n",
       "\n",
       "    .dataframe thead th {\n",
       "        text-align: right;\n",
       "    }\n",
       "</style>\n",
       "<table border=\"1\" class=\"dataframe\">\n",
       "  <thead>\n",
       "    <tr style=\"text-align: right;\">\n",
       "      <th></th>\n",
       "      <th>frequency</th>\n",
       "      <th>most_frequent</th>\n",
       "    </tr>\n",
       "    <tr>\n",
       "      <th>sepal_length</th>\n",
       "      <th></th>\n",
       "      <th></th>\n",
       "    </tr>\n",
       "  </thead>\n",
       "  <tbody>\n",
       "    <tr>\n",
       "      <th>4.3</th>\n",
       "      <td>1</td>\n",
       "      <td>0</td>\n",
       "    </tr>\n",
       "    <tr>\n",
       "      <th>4.4</th>\n",
       "      <td>3</td>\n",
       "      <td>0</td>\n",
       "    </tr>\n",
       "    <tr>\n",
       "      <th>4.5</th>\n",
       "      <td>1</td>\n",
       "      <td>0</td>\n",
       "    </tr>\n",
       "    <tr>\n",
       "      <th>4.6</th>\n",
       "      <td>4</td>\n",
       "      <td>0</td>\n",
       "    </tr>\n",
       "    <tr>\n",
       "      <th>4.7</th>\n",
       "      <td>2</td>\n",
       "      <td>0</td>\n",
       "    </tr>\n",
       "  </tbody>\n",
       "</table>\n",
       "</div>"
      ],
      "text/plain": [
       "              frequency  most_frequent\n",
       "sepal_length                          \n",
       "4.3                   1              0\n",
       "4.4                   3              0\n",
       "4.5                   1              0\n",
       "4.6                   4              0\n",
       "4.7                   2              0"
      ]
     },
     "execution_count": 14,
     "metadata": {},
     "output_type": "execute_result"
    }
   ],
   "source": [
    "lengthMf = df.groupby('sepal_length')['target'].agg(lambda x: x.value_counts().idxmax()).T\n",
    "lengthF = df.groupby('sepal_length')['target'].agg(lambda x: x.value_counts().max()).T\n",
    "lengthFreq = pd.concat([lengthF.rename('frequency'),lengthMf.rename('most_frequent')], axis=1)\n",
    "\n",
    "widthMf = df.groupby('sepal_width')['target'].agg(lambda x: x.value_counts().idxmax()).T\n",
    "widthF = df.groupby('sepal_width')['target'].agg(lambda x: x.value_counts().max()).T\n",
    "widthFreq = pd.concat([lengthF.rename('frequency'),lengthMf.rename('most_frequent')], axis=1)\n",
    "\n",
    "# Display the final result\n",
    "lengthFreq.head()"
   ]
  },
  {
   "cell_type": "code",
   "execution_count": 15,
   "metadata": {},
   "outputs": [
    {
     "data": {
      "text/html": [
       "<div>\n",
       "<style scoped>\n",
       "    .dataframe tbody tr th:only-of-type {\n",
       "        vertical-align: middle;\n",
       "    }\n",
       "\n",
       "    .dataframe tbody tr th {\n",
       "        vertical-align: top;\n",
       "    }\n",
       "\n",
       "    .dataframe thead th {\n",
       "        text-align: right;\n",
       "    }\n",
       "</style>\n",
       "<table border=\"1\" class=\"dataframe\">\n",
       "  <thead>\n",
       "    <tr style=\"text-align: right;\">\n",
       "      <th></th>\n",
       "      <th>frequency</th>\n",
       "      <th>most_frequent</th>\n",
       "    </tr>\n",
       "    <tr>\n",
       "      <th>sepal_length</th>\n",
       "      <th></th>\n",
       "      <th></th>\n",
       "    </tr>\n",
       "  </thead>\n",
       "  <tbody>\n",
       "    <tr>\n",
       "      <th>4.3</th>\n",
       "      <td>1</td>\n",
       "      <td>0</td>\n",
       "    </tr>\n",
       "    <tr>\n",
       "      <th>4.4</th>\n",
       "      <td>3</td>\n",
       "      <td>0</td>\n",
       "    </tr>\n",
       "    <tr>\n",
       "      <th>4.5</th>\n",
       "      <td>1</td>\n",
       "      <td>0</td>\n",
       "    </tr>\n",
       "    <tr>\n",
       "      <th>4.6</th>\n",
       "      <td>4</td>\n",
       "      <td>0</td>\n",
       "    </tr>\n",
       "    <tr>\n",
       "      <th>4.7</th>\n",
       "      <td>2</td>\n",
       "      <td>0</td>\n",
       "    </tr>\n",
       "  </tbody>\n",
       "</table>\n",
       "</div>"
      ],
      "text/plain": [
       "              frequency  most_frequent\n",
       "sepal_length                          \n",
       "4.3                   1              0\n",
       "4.4                   3              0\n",
       "4.5                   1              0\n",
       "4.6                   4              0\n",
       "4.7                   2              0"
      ]
     },
     "execution_count": 15,
     "metadata": {},
     "output_type": "execute_result"
    }
   ],
   "source": [
    "widthFreq.head()"
   ]
  },
  {
   "cell_type": "code",
   "execution_count": 16,
   "metadata": {},
   "outputs": [
    {
     "data": {
      "text/html": [
       "<div>\n",
       "<style scoped>\n",
       "    .dataframe tbody tr th:only-of-type {\n",
       "        vertical-align: middle;\n",
       "    }\n",
       "\n",
       "    .dataframe tbody tr th {\n",
       "        vertical-align: top;\n",
       "    }\n",
       "\n",
       "    .dataframe thead th {\n",
       "        text-align: right;\n",
       "    }\n",
       "</style>\n",
       "<table border=\"1\" class=\"dataframe\">\n",
       "  <thead>\n",
       "    <tr style=\"text-align: right;\">\n",
       "      <th></th>\n",
       "      <th>3.5</th>\n",
       "      <th>3.0</th>\n",
       "      <th>3.2</th>\n",
       "      <th>3.1</th>\n",
       "      <th>3.6</th>\n",
       "      <th>3.9</th>\n",
       "      <th>3.4</th>\n",
       "      <th>2.9</th>\n",
       "      <th>3.7</th>\n",
       "      <th>4.0</th>\n",
       "      <th>...</th>\n",
       "      <th>4.1</th>\n",
       "      <th>4.2</th>\n",
       "      <th>2.3</th>\n",
       "      <th>2.8</th>\n",
       "      <th>2.4</th>\n",
       "      <th>2.7</th>\n",
       "      <th>2.0</th>\n",
       "      <th>2.2</th>\n",
       "      <th>2.5</th>\n",
       "      <th>2.6</th>\n",
       "    </tr>\n",
       "  </thead>\n",
       "  <tbody>\n",
       "    <tr>\n",
       "      <th>5.1</th>\n",
       "      <td>0</td>\n",
       "      <td>2</td>\n",
       "      <td>0</td>\n",
       "      <td>0</td>\n",
       "      <td>0</td>\n",
       "      <td>0</td>\n",
       "      <td>0</td>\n",
       "      <td>1</td>\n",
       "      <td>0</td>\n",
       "      <td>0</td>\n",
       "      <td>...</td>\n",
       "      <td>0</td>\n",
       "      <td>0</td>\n",
       "      <td>1</td>\n",
       "      <td>2</td>\n",
       "      <td>1</td>\n",
       "      <td>1</td>\n",
       "      <td>1</td>\n",
       "      <td>1</td>\n",
       "      <td>1</td>\n",
       "      <td>1</td>\n",
       "    </tr>\n",
       "    <tr>\n",
       "      <th>4.9</th>\n",
       "      <td>0</td>\n",
       "      <td>2</td>\n",
       "      <td>0</td>\n",
       "      <td>0</td>\n",
       "      <td>0</td>\n",
       "      <td>0</td>\n",
       "      <td>0</td>\n",
       "      <td>1</td>\n",
       "      <td>0</td>\n",
       "      <td>0</td>\n",
       "      <td>...</td>\n",
       "      <td>0</td>\n",
       "      <td>0</td>\n",
       "      <td>1</td>\n",
       "      <td>2</td>\n",
       "      <td>1</td>\n",
       "      <td>1</td>\n",
       "      <td>1</td>\n",
       "      <td>1</td>\n",
       "      <td>1</td>\n",
       "      <td>1</td>\n",
       "    </tr>\n",
       "    <tr>\n",
       "      <th>4.7</th>\n",
       "      <td>0</td>\n",
       "      <td>2</td>\n",
       "      <td>0</td>\n",
       "      <td>0</td>\n",
       "      <td>0</td>\n",
       "      <td>0</td>\n",
       "      <td>0</td>\n",
       "      <td>1</td>\n",
       "      <td>0</td>\n",
       "      <td>0</td>\n",
       "      <td>...</td>\n",
       "      <td>0</td>\n",
       "      <td>0</td>\n",
       "      <td>1</td>\n",
       "      <td>2</td>\n",
       "      <td>1</td>\n",
       "      <td>1</td>\n",
       "      <td>1</td>\n",
       "      <td>1</td>\n",
       "      <td>1</td>\n",
       "      <td>1</td>\n",
       "    </tr>\n",
       "    <tr>\n",
       "      <th>4.6</th>\n",
       "      <td>0</td>\n",
       "      <td>2</td>\n",
       "      <td>0</td>\n",
       "      <td>0</td>\n",
       "      <td>0</td>\n",
       "      <td>0</td>\n",
       "      <td>0</td>\n",
       "      <td>1</td>\n",
       "      <td>0</td>\n",
       "      <td>0</td>\n",
       "      <td>...</td>\n",
       "      <td>0</td>\n",
       "      <td>0</td>\n",
       "      <td>1</td>\n",
       "      <td>2</td>\n",
       "      <td>1</td>\n",
       "      <td>1</td>\n",
       "      <td>1</td>\n",
       "      <td>1</td>\n",
       "      <td>1</td>\n",
       "      <td>1</td>\n",
       "    </tr>\n",
       "    <tr>\n",
       "      <th>5.0</th>\n",
       "      <td>0</td>\n",
       "      <td>2</td>\n",
       "      <td>0</td>\n",
       "      <td>0</td>\n",
       "      <td>0</td>\n",
       "      <td>0</td>\n",
       "      <td>0</td>\n",
       "      <td>1</td>\n",
       "      <td>0</td>\n",
       "      <td>0</td>\n",
       "      <td>...</td>\n",
       "      <td>0</td>\n",
       "      <td>0</td>\n",
       "      <td>1</td>\n",
       "      <td>2</td>\n",
       "      <td>1</td>\n",
       "      <td>1</td>\n",
       "      <td>1</td>\n",
       "      <td>1</td>\n",
       "      <td>1</td>\n",
       "      <td>1</td>\n",
       "    </tr>\n",
       "  </tbody>\n",
       "</table>\n",
       "<p>5 rows × 23 columns</p>\n",
       "</div>"
      ],
      "text/plain": [
       "    3.5 3.0 3.2 3.1 3.6 3.9 3.4 2.9 3.7 4.0  ... 4.1 4.2 2.3 2.8 2.4 2.7 2.0  \\\n",
       "5.1   0   2   0   0   0   0   0   1   0   0  ...   0   0   1   2   1   1   1   \n",
       "4.9   0   2   0   0   0   0   0   1   0   0  ...   0   0   1   2   1   1   1   \n",
       "4.7   0   2   0   0   0   0   0   1   0   0  ...   0   0   1   2   1   1   1   \n",
       "4.6   0   2   0   0   0   0   0   1   0   0  ...   0   0   1   2   1   1   1   \n",
       "5.0   0   2   0   0   0   0   0   1   0   0  ...   0   0   1   2   1   1   1   \n",
       "\n",
       "    2.2 2.5 2.6  \n",
       "5.1   1   1   1  \n",
       "4.9   1   1   1  \n",
       "4.7   1   1   1  \n",
       "4.6   1   1   1  \n",
       "5.0   1   1   1  \n",
       "\n",
       "[5 rows x 23 columns]"
      ]
     },
     "execution_count": 16,
     "metadata": {},
     "output_type": "execute_result"
    }
   ],
   "source": [
    "M = pd.DataFrame(index=df['sepal_length'].unique(), columns=df['sepal_width'].unique())\n",
    "\n",
    "for i in M.index:\n",
    "\tfor j in M.columns:\n",
    "\t\tlmf = lengthMf.loc[i].astype(int)\n",
    "\t\twmf = widthMf.loc[j].astype(int)\n",
    "\t\tlf = lengthF.loc[i].astype(int)\n",
    "\t\twf = widthF.loc[j].astype(int)\n",
    "\t\tif lmf != wmf:\n",
    "\t\t\tM.loc[i,j]=max(lmf,wmf)\n",
    "\t\telif lf == wf:\n",
    "\t\t\tM.loc[i,j]=random.choice([lmf, wmf])\n",
    "\t\telif lf < wf:\n",
    "\t\t\tM.loc[i,j]=wmf\n",
    "\t\telse:\n",
    "\t\t\tM.loc[i,j]=lmf\n",
    "\n",
    "M.head()"
   ]
  },
  {
   "cell_type": "code",
   "execution_count": 17,
   "metadata": {},
   "outputs": [
    {
     "name": "stdout",
     "output_type": "stream",
     "text": [
      "Score:13.1677%\n"
     ]
    }
   ],
   "source": [
    "correct = 0\n",
    "for sample in df.values:\n",
    "\tl = sample[0]\n",
    "\tw = sample[1]\n",
    "\tif M.loc[l,w] == sample[4]:\n",
    "\t\tcorrect+=1\n",
    "print(f'Score:{round(correct/M.size * 100,4)}%')"
   ]
  },
  {
   "cell_type": "code",
   "execution_count": 18,
   "metadata": {},
   "outputs": [
    {
     "name": "stdout",
     "output_type": "stream",
     "text": [
      "Number of correct  predictions = 37/38 = 97.3684%\n",
      "Train score = 1.0, Test score = 0.9737\n"
     ]
    }
   ],
   "source": [
    "from sklearn.model_selection import train_test_split\n",
    "from sklearn import tree\n",
    "\n",
    "xtrain,xtest,ytrain,ytest = train_test_split(iris.data,iris.target,random_state=0)\n",
    "\n",
    "clf = tree.DecisionTreeClassifier(random_state=0)\n",
    "\n",
    "clf.fit(xtrain,ytrain)\n",
    "\n",
    "yhat = clf.predict(xtest)\n",
    "\n",
    "count = 0\n",
    "Mtest = len(ytest)\n",
    "for i in range(Mtest):\n",
    "    if (yhat[i]==ytest[i]):\n",
    "        count+=1\n",
    "score = (count/Mtest)*100\n",
    "print(f'Number of correct  predictions = {count}/{Mtest} = {round(score,4)}%')\n",
    "print(f'Train score = {clf.score(xtrain,ytrain)}, Test score = {round(clf.score(xtest,ytest),4)}')\n"
   ]
  },
  {
   "cell_type": "code",
   "execution_count": 19,
   "metadata": {},
   "outputs": [
    {
     "name": "stdout",
     "output_type": "stream",
     "text": [
      "Accuracy score=0.9736842105263158\n"
     ]
    },
    {
     "data": {
      "image/png": "[encoded data removed]",
      "text/plain": [
       "<Figure size 640x480 with 2 Axes>"
      ]
     },
     "metadata": {},
     "output_type": "display_data"
    },
    {
     "name": "stdout",
     "output_type": "stream",
     "text": [
      "Prediction scores [1.  1.  0.9]\n",
      "Recall scores [1.     0.9375 1.    ]\n",
      "f1 scores [1.         0.96774194 0.94736842]\n"
     ]
    }
   ],
   "source": [
    "from sklearn import metrics\n",
    "from sklearn.metrics import ConfusionMatrixDisplay\n",
    "import matplotlib.pyplot as plt\n",
    "\n",
    "print(f'Accuracy score={metrics.accuracy_score(ytest,yhat)}')\n",
    "\n",
    "cm = metrics.confusion_matrix(ytest,yhat)\n",
    "disp = ConfusionMatrixDisplay(confusion_matrix=cm,display_labels=clf.classes_)\n",
    "disp.plot()\n",
    "plt.show()\n",
    "\n",
    "pre = metrics.precision_score(ytest,yhat,average=None)\n",
    "print(f'Prediction scores {pre}')\n",
    "\n",
    "recall = metrics.recall_score(ytest,yhat,average=None)\n",
    "print(f'Recall scores {recall}')\n",
    "\n",
    "f1 = metrics.f1_score(ytest,yhat,average=None)\n",
    "print(f'f1 scores {f1}')\n"
   ]
  },
  {
   "cell_type": "code",
   "execution_count": 20,
   "metadata": {},
   "outputs": [],
   "source": [
    "decisionPath = clf.decision_path(iris.data)\n",
    "tree.export_graphviz(clf,out_file='iris-tree.dot',class_names=iris.target_names,impurity=True)"
   ]
  },
  {
   "cell_type": "code",
   "execution_count": 24,
   "metadata": {},
   "outputs": [
    {
     "name": "stdout",
     "output_type": "stream",
     "text": [
      "Train score = 0.8392857142857143, Test score = 0.7895\n",
      "Accuracy score=0.7894736842105263\n"
     ]
    },
    {
     "data": {
      "image/png": "[encoded data removed]",
      "text/plain": [
       "<Figure size 640x480 with 2 Axes>"
      ]
     },
     "metadata": {},
     "output_type": "display_data"
    },
    {
     "name": "stdout",
     "output_type": "stream",
     "text": [
      "Prediction scores [1.         0.78571429 0.54545455]\n",
      "Recall scores [1.         0.6875     0.66666667]\n",
      "f1 scores [1.         0.73333333 0.6       ]\n"
     ]
    }
   ],
   "source": [
    "# Logistic Regression on iris dataset\n",
    "import sklearn.linear_model as linear_model\n",
    "\n",
    "xtrain,xtest,ytrain,ytest = train_test_split(iris.data[:,:2],iris.target,random_state=0)\n",
    "\n",
    "lr = linear_model.LogisticRegression(solver='lbfgs', multi_class='multinomial')\n",
    "lr.fit(xtrain,ytrain)\n",
    "\n",
    "yhat = lr.predict(xtest)\n",
    "\n",
    "print(f'Train score = {lr.score(xtrain,ytrain)}, Test score = {round(lr.score(xtest,ytest),4)}')\n",
    "\n",
    "print(f'Accuracy score={metrics.accuracy_score(ytest,yhat)}')\n",
    "\n",
    "cm = metrics.confusion_matrix(ytest,yhat)\n",
    "disp = ConfusionMatrixDisplay(confusion_matrix=cm,display_labels=clf.classes_)\n",
    "disp.plot()\n",
    "plt.show()\n",
    "\n",
    "pre = metrics.precision_score(ytest,yhat,average=None)\n",
    "print(f'Prediction scores {pre}')\n",
    "\n",
    "recall = metrics.recall_score(ytest,yhat,average=None)\n",
    "print(f'Recall scores {recall}')\n",
    "\n",
    "f1 = metrics.f1_score(ytest,yhat,average=None)\n",
    "print(f'f1 scores {f1}')"
   ]
  },
  {
   "cell_type": "code",
   "execution_count": 22,
   "metadata": {},
   "outputs": [
    {
     "data": {
      "image/png": "[encoded data removed]",
      "text/plain": [
       "<Figure size 640x480 with 1 Axes>"
      ]
     },
     "metadata": {},
     "output_type": "display_data"
    }
   ],
   "source": [
    "x0range = np.arange(4.2,8,0.01)\n",
    "x1range = np.arange(2,4.4,0.01)\n",
    "x0,x1=np.meshgrid(x0range,x1range)\n",
    "xpairs = np.column_stack((x0.ravel(), x1.ravel()))\n",
    "yhatpairs = lr.predict(xpairs)\n",
    "yhatmesh = yhatpairs.reshape(x0.shape)\n",
    "\n",
    "fig, ax = plt.subplots()\n",
    "\n",
    "# Plot colormesh\n",
    "pcm = ax.pcolormesh(x0, x1, yhatmesh, cmap='Blues')\n",
    "\n",
    "# Plot scatter on the same axes\n",
    "scatter = ax.scatter(xtest[:, 0], xtest[:, 1], c=yhat, cmap='viridis')\n",
    "\n",
    "# Show the plot\n",
    "plt.show()"
   ]
  },
  {
   "cell_type": "code",
   "execution_count": 23,
   "metadata": {},
   "outputs": [
    {
     "data": {
      "image/png": "[encoded data removed]",
      "text/plain": [
       "<Figure size 640x480 with 1 Axes>"
      ]
     },
     "metadata": {},
     "output_type": "display_data"
    }
   ],
   "source": [
    "import sklearn.preprocessing as preprocess\n",
    "\n",
    "conf = lr.decision_function(xpairs)\n",
    "\n",
    "ybin = preprocess.label_binarize(yhatpairs,classes=sorted(set(iris.target)))\n",
    "\n",
    "fpr = dict()\n",
    "tpr = dict()\n",
    "for c in range(3):\n",
    "    fpr[c],tpr[c],tmp = metrics.roc_curve(ybin[:,c],conf[:,c])\n",
    "\n",
    "for c in range(3):\n",
    "    plt.plot(fpr[c],tpr[c],label=iris.target_names[c])\n",
    "\n",
    "plt.xlabel('FP rate')\n",
    "plt.ylabel('TP rate')\n",
    "plt.show()"
   ]
  }
 ],
 "metadata": {
  "kernelspec": {
   "display_name": "base",
   "language": "python",
   "name": "python3"
  },
  "language_info": {
   "codemirror_mode": {
    "name": "ipython",
    "version": 3
   },
   "file_extension": ".py",
   "mimetype": "text/x-python",
   "name": "python",
   "nbconvert_exporter": "python",
   "pygments_lexer": "ipython3",
   "version": "3.12.1"
  }
 },
 "nbformat": 4,
 "nbformat_minor": 2
}
